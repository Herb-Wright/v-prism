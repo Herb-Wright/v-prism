{
 "cells": [
  {
   "cell_type": "code",
   "execution_count": 42,
   "metadata": {},
   "outputs": [
    {
     "name": "stdout",
     "output_type": "stream",
     "text": [
      "using device: cuda\n"
     ]
    }
   ],
   "source": [
    "# imports\n",
    "import os\n",
    "import time\n",
    "\n",
    "import torch\n",
    "from torch import Tensor, from_numpy\n",
    "import numpy as np\n",
    "import matplotlib.pyplot as plt\n",
    "\n",
    "from v_prism.data_loading.bullet_reconstruction_dataset import ReconBulletDataset\n",
    "from v_prism.data_loading.scene import Scene\n",
    "from v_prism.mapping.hinge_point_generation import generate_hingepoint_grid_multiple_objects_w_surface\n",
    "from v_prism.mapping.v_prism import VPRISM\n",
    "from v_prism.mapping.bayesian_hilbert_map import BayesianHilbertMapWithFullCovarianceMatrixNoInv\n",
    "from v_prism.utils.kernels import GaussianKernel\n",
    "from v_prism.data_loading.negative_sampling import negative_sample_rays_in_sphere_uniform_each_step_multiclass\n",
    "from v_prism.data_loading.negative_sampling import negative_sample_rays_in_sphere_step_multiclass\n",
    "from v_prism.data_loading.negative_sampling import add_negative_points_below_plane_multiple_objects\n",
    "from v_prism.data_loading.negative_sampling import negative_sample_each_ray_for_ablation\n",
    "from v_prism.utils.ransac import robust_ransac\n",
    "from v_prism.utils.subsample import grid_subsample, grid_subsample_different_res\n",
    "from v_prism.utils.ui import abspath\n",
    "from v_prism.utils.eval import calc_iou, chamfer_dist_for_mesh\n",
    "from v_prism.utils.pointsdf import PointSDF, scale_and_center_object_points\n",
    "from v_prism.utils.pointsdf import scale_and_center_queries, index_points\n",
    "from v_prism.utils.pointsdf import  farthest_point_sample\n",
    "\n",
    "\n",
    "\n",
    "\n",
    "\n",
    "device = torch.device(\"cuda\") if torch.cuda.is_available() else torch.device(\"cpu\")\n",
    "print(f\"using device: {device}\")"
   ]
  },
  {
   "cell_type": "code",
   "execution_count": 43,
   "metadata": {},
   "outputs": [],
   "source": [
    "class VPRISMReconAlgorithm:\n",
    "    def __init__(\n",
    "        self, \n",
    "        grid_len: float, \n",
    "        grid_dist_from_obj: float, \n",
    "        kernel_param: float,\n",
    "        ray_step_size: float,\n",
    "        object_sphere_radius: float,\n",
    "        scene_sphere_radius: float,\n",
    "        subsample_grid_size_occ: float,\n",
    "        subsample_grid_size_unocc: float,\n",
    "        num_surface_points_per_obj: int,\n",
    "        device: torch.device = device\n",
    "    ) -> None:\n",
    "        self.grid_len = grid_len\n",
    "        self.grid_dist_from_obj = grid_dist_from_obj\n",
    "        self.kernel_param = kernel_param\n",
    "        self.ray_step_size = ray_step_size\n",
    "        self.object_sphere_radius = object_sphere_radius\n",
    "        self.scene_sphere_radius = scene_sphere_radius\n",
    "        self.subsample_grid_size_occ = subsample_grid_size_occ\n",
    "        self.subsample_grid_size_unocc = subsample_grid_size_unocc\n",
    "        self.device = device\n",
    "        self.num_surface_points = num_surface_points_per_obj\n",
    "        self.conf = 0.5\n",
    "        self.vprism_map = None\n",
    "\n",
    "    def fit(self, scene: Scene) -> None:\n",
    "        hinge_points = generate_hingepoint_grid_multiple_objects_w_surface(\n",
    "            scene.points, scene.seg_mask, self.grid_len, self.grid_dist_from_obj, self.num_surface_points\n",
    "        )\n",
    "        self.hinge_points = hinge_points\n",
    "        print(f\"hinge_points: {hinge_points.shape}\")\n",
    "        kernel = GaussianKernel(self.kernel_param)\n",
    "        # (2) create map\n",
    "        vprism_map = VPRISM(\n",
    "            num_classes=int(torch.amax(scene.seg_mask).item()) + 1,\n",
    "            hinge_points=hinge_points,\n",
    "            kernel=kernel,\n",
    "            num_iterations=3,\n",
    "            # num_iterations_initial=10\n",
    "            # num_iterations=5,\n",
    "        ).to(self.device)\n",
    "        # (3) neg sampling on data\n",
    "        scene_center = 0.5 * (\n",
    "            torch.amax(scene.points[scene.seg_mask > 0], dim=0) \n",
    "            + torch.amin(scene.points[scene.seg_mask > 0], dim=0)\n",
    "        )\n",
    "        X, y = negative_sample_rays_in_sphere_uniform_each_step_multiclass(\n",
    "            points=scene.points, \n",
    "            mask=scene.seg_mask, \n",
    "            step_size=self.ray_step_size, \n",
    "            radius=self.object_sphere_radius, \n",
    "            camera_pos=scene.camera_pos,\n",
    "        )\n",
    "        plane = robust_ransac(scene.points, scene.seg_mask, 100, dist_tol=0.01, radius=self.scene_sphere_radius)\n",
    "        X, y = add_negative_points_below_plane_multiple_objects(\n",
    "            X, y, plane=[*list(plane.normal_vect), -plane.bias], center=scene_center, radius=self.object_sphere_radius, k=1000\n",
    "        )\n",
    "    \n",
    "        X, y = grid_subsample_different_res(\n",
    "            X, \n",
    "            y, \n",
    "            subsample_grid_size_unocc=self.subsample_grid_size_unocc, \n",
    "            subsample_grid_size_occ=self.subsample_grid_size_occ\n",
    "        )\n",
    "        print(f\"X: {X.shape}\")\n",
    "        # (4) fit bhm\n",
    "        vprism_map.sequential_update(X.to(self.device), y.to(self.device), 20000)\n",
    "        self.vprism_map = vprism_map\n",
    "\n",
    "    def predict(self, x: Tensor) -> Tensor:\n",
    "        return self.vprism_map.predict(x.to(self.device)).to(torch.device(\"cpu\"))"
   ]
  },
  {
   "cell_type": "code",
   "execution_count": 44,
   "metadata": {},
   "outputs": [],
   "source": [
    "data_dir = abspath(\"~/data\")\n",
    "dataset = ReconBulletDataset(\"bhm4recon_ycb_100\", data_dir)\n",
    "scene_idx = 50  # random scene\n"
   ]
  },
  {
   "cell_type": "code",
   "execution_count": 45,
   "metadata": {},
   "outputs": [],
   "source": [
    "\n",
    "\n",
    "def eval_for_grid_len(grid_len):\n",
    "    algo = VPRISMReconAlgorithm(\n",
    "        grid_len=grid_len,\n",
    "        grid_dist_from_obj=0.15,\n",
    "        kernel_param=1000,\n",
    "        ray_step_size=0.1,\n",
    "        object_sphere_radius=0.25,\n",
    "        subsample_grid_size_occ=0.01,\n",
    "        subsample_grid_size_unocc=0.015,\n",
    "        num_surface_points_per_obj=32,\n",
    "        scene_sphere_radius=0.4,\n",
    "    )\n",
    "    res = 0.015\n",
    "    scene = dataset[scene_idx * dataset.num_views_per]\n",
    "    start = time.time()\n",
    "    algo.fit(scene)\n",
    "    end_fit = time.time()\n",
    "    print(f\"scene {scene_idx} fit in {end_fit - start} seconds.\")\n",
    "    ious = []\n",
    "    chamfers = []\n",
    "    for i, obj_data in enumerate(scene.object_metadata):\n",
    "        mesh_path = os.path.join(data_dir, obj_data[\"mesh_path\"])\n",
    "        func = lambda x: algo.predict(x)[:, i+1]\n",
    "        iou = calc_iou(\n",
    "            mesh_path,\n",
    "            pred_func=func,\n",
    "            resolution=res,\n",
    "            mesh_position=np.array(obj_data[\"position\"]),\n",
    "            mesh_orientation=np.array(obj_data[\"orientation\"]),\n",
    "            mesh_scale=np.array(obj_data[\"scale\"]),\n",
    "            conf=algo.conf,\n",
    "        )\n",
    "        chamfer = chamfer_dist_for_mesh(\n",
    "            mesh_path,\n",
    "            pred_func=func,\n",
    "            resolution=res,\n",
    "            mesh_position=np.array(obj_data[\"position\"]),\n",
    "            mesh_orientation=np.array(obj_data[\"orientation\"]),\n",
    "            mesh_scale=np.array(obj_data[\"scale\"]),\n",
    "            conf=algo.conf,\n",
    "        )\n",
    "        ious.append(iou)\n",
    "        if chamfer is not torch.nan:\n",
    "            chamfers.append(chamfer)\n",
    "    avg_iou = sum(ious) / len(ious)\n",
    "    avg_chamfer = sum(chamfers) / len(chamfers)\n",
    "    num_hinge = algo.hinge_points.shape[0]\n",
    "    return avg_iou, avg_chamfer, num_hinge\n",
    "\n"
   ]
  },
  {
   "cell_type": "code",
   "execution_count": 46,
   "metadata": {},
   "outputs": [
    {
     "name": "stdout",
     "output_type": "stream",
     "text": [
      "hinge_points: torch.Size([200, 3])\n",
      "X: torch.Size([44603, 3])\n",
      "scene 50 fit in 2.5991146564483643 seconds.\n"
     ]
    },
    {
     "name": "stderr",
     "output_type": "stream",
     "text": [
      "100%|██████████| 27/27 [00:00<00:00, 91.83it/s]\n",
      "100%|██████████| 27/27 [00:00<00:00, 89.56it/s]\n",
      "100%|██████████| 27/27 [00:00<00:00, 91.39it/s]\n",
      "100%|██████████| 27/27 [00:00<00:00, 90.74it/s]\n",
      "100%|██████████| 27/27 [00:00<00:00, 90.10it/s]\n",
      "100%|██████████| 27/27 [00:00<00:00, 90.52it/s]\n"
     ]
    },
    {
     "name": "stdout",
     "output_type": "stream",
     "text": [
      "hinge_points: torch.Size([257, 3])\n",
      "X: torch.Size([44281, 3])\n",
      "scene 50 fit in 3.308375597000122 seconds.\n"
     ]
    },
    {
     "name": "stderr",
     "output_type": "stream",
     "text": [
      "100%|██████████| 27/27 [00:00<00:00, 65.44it/s]\n",
      "100%|██████████| 27/27 [00:00<00:00, 65.65it/s]\n",
      "100%|██████████| 27/27 [00:00<00:00, 65.76it/s]\n",
      "100%|██████████| 27/27 [00:00<00:00, 65.19it/s]\n",
      "100%|██████████| 27/27 [00:00<00:00, 65.79it/s]\n",
      "100%|██████████| 27/27 [00:00<00:00, 66.14it/s]\n"
     ]
    },
    {
     "name": "stdout",
     "output_type": "stream",
     "text": [
      "hinge_points: torch.Size([322, 3])\n",
      "X: torch.Size([44405, 3])\n",
      "scene 50 fit in 3.8959810733795166 seconds.\n"
     ]
    },
    {
     "name": "stderr",
     "output_type": "stream",
     "text": [
      "100%|██████████| 27/27 [00:00<00:00, 50.56it/s]\n",
      "100%|██████████| 27/27 [00:00<00:00, 50.72it/s]\n",
      "100%|██████████| 27/27 [00:00<00:00, 50.33it/s]\n",
      "100%|██████████| 27/27 [00:00<00:00, 50.14it/s]\n",
      "100%|██████████| 27/27 [00:00<00:00, 50.47it/s]\n",
      "100%|██████████| 27/27 [00:00<00:00, 50.96it/s]\n"
     ]
    },
    {
     "name": "stdout",
     "output_type": "stream",
     "text": [
      "hinge_points: torch.Size([520, 3])\n",
      "X: torch.Size([44275, 3])\n",
      "scene 50 fit in 7.062795877456665 seconds.\n"
     ]
    },
    {
     "name": "stderr",
     "output_type": "stream",
     "text": [
      "100%|██████████| 27/27 [00:01<00:00, 25.91it/s]\n",
      "100%|██████████| 27/27 [00:01<00:00, 25.85it/s]\n",
      "100%|██████████| 27/27 [00:01<00:00, 25.90it/s]\n",
      "100%|██████████| 27/27 [00:01<00:00, 25.93it/s]\n",
      "100%|██████████| 27/27 [00:01<00:00, 25.96it/s]\n",
      "100%|██████████| 27/27 [00:01<00:00, 25.89it/s]\n"
     ]
    },
    {
     "name": "stdout",
     "output_type": "stream",
     "text": [
      "hinge_points: torch.Size([742, 3])\n",
      "X: torch.Size([43757, 3])\n",
      "scene 50 fit in 10.587041854858398 seconds.\n"
     ]
    },
    {
     "name": "stderr",
     "output_type": "stream",
     "text": [
      "100%|██████████| 27/27 [00:01<00:00, 14.71it/s]\n",
      "100%|██████████| 27/27 [00:01<00:00, 14.74it/s]\n",
      "100%|██████████| 27/27 [00:01<00:00, 14.74it/s]\n",
      "100%|██████████| 27/27 [00:01<00:00, 14.74it/s]\n",
      "100%|██████████| 27/27 [00:01<00:00, 14.74it/s]\n",
      "100%|██████████| 27/27 [00:01<00:00, 14.79it/s]\n"
     ]
    },
    {
     "name": "stdout",
     "output_type": "stream",
     "text": [
      "hinge_points: torch.Size([996, 3])\n",
      "X: torch.Size([44199, 3])\n",
      "scene 50 fit in 18.28012251853943 seconds.\n"
     ]
    },
    {
     "name": "stderr",
     "output_type": "stream",
     "text": [
      "100%|██████████| 27/27 [00:03<00:00,  8.55it/s]\n",
      "100%|██████████| 27/27 [00:03<00:00,  8.60it/s]\n",
      "100%|██████████| 27/27 [00:03<00:00,  8.58it/s]\n",
      "100%|██████████| 27/27 [00:03<00:00,  8.61it/s]\n",
      "100%|██████████| 27/27 [00:03<00:00,  8.61it/s]\n",
      "100%|██████████| 27/27 [00:03<00:00,  8.58it/s]\n"
     ]
    },
    {
     "name": "stdout",
     "output_type": "stream",
     "text": [
      "hinge_points: torch.Size([1277, 3])\n",
      "X: torch.Size([44511, 3])\n",
      "scene 50 fit in 28.2968327999115 seconds.\n"
     ]
    },
    {
     "name": "stderr",
     "output_type": "stream",
     "text": [
      "100%|██████████| 27/27 [00:04<00:00,  5.50it/s]\n",
      "100%|██████████| 27/27 [00:04<00:00,  5.50it/s]\n",
      "100%|██████████| 27/27 [00:04<00:00,  5.52it/s]\n",
      "100%|██████████| 27/27 [00:04<00:00,  5.53it/s]\n",
      "100%|██████████| 27/27 [00:04<00:00,  5.54it/s]\n",
      "100%|██████████| 27/27 [00:04<00:00,  5.53it/s]\n"
     ]
    },
    {
     "name": "stdout",
     "output_type": "stream",
     "text": [
      "hinge_points: torch.Size([1455, 3])\n",
      "X: torch.Size([44011, 3])\n",
      "scene 50 fit in 37.52718257904053 seconds.\n"
     ]
    },
    {
     "name": "stderr",
     "output_type": "stream",
     "text": [
      "100%|██████████| 27/27 [00:06<00:00,  4.26it/s]\n",
      "100%|██████████| 27/27 [00:06<00:00,  4.25it/s]\n",
      "100%|██████████| 27/27 [00:06<00:00,  4.24it/s]\n",
      "100%|██████████| 27/27 [00:06<00:00,  4.25it/s]\n",
      "100%|██████████| 27/27 [00:06<00:00,  4.20it/s]\n",
      "100%|██████████| 27/27 [00:06<00:00,  4.27it/s]\n"
     ]
    }
   ],
   "source": [
    "# grid_lengths = [0.07, 0.065, 0.06, .055, 0.05, 0.045, 0.04]\n",
    "grid_lengths = [0.2, 0.10, 0.08, 0.06, 0.05, 0.044, 0.04, 0.038]\n",
    "ious = []\n",
    "chamfers = []\n",
    "num_hinges = []\n",
    "\n",
    "for grid_len in grid_lengths:\n",
    "    avg_iou, avg_chamfer, num_hinge = eval_for_grid_len(grid_len)\n",
    "    ious.append(avg_iou)\n",
    "    chamfers.append(avg_chamfer)\n",
    "    num_hinges.append(num_hinge)"
   ]
  },
  {
   "cell_type": "code",
   "execution_count": 48,
   "metadata": {},
   "outputs": [
    {
     "data": {
      "image/png": "[encoded data removed]",
      "text/plain": [
       "<Figure size 300x300 with 1 Axes>"
      ]
     },
     "metadata": {},
     "output_type": "display_data"
    }
   ],
   "source": [
    "plt.figure(figsize=(3, 3))\n",
    "plt.scatter(num_hinges, ious)\n",
    "plt.plot(num_hinges, ious)\n",
    "plt.xlabel(\"Number of Hinge Points\")\n",
    "plt.ylabel(\"IoU on Scene\")\n",
    "plt.suptitle(\"Number of Hinge Points and IoU\")\n",
    "plt.show()"
   ]
  },
  {
   "cell_type": "code",
   "execution_count": 50,
   "metadata": {},
   "outputs": [
    {
     "data": {
      "image/png": "[encoded data removed]",
      "text/plain": [
       "<Figure size 300x300 with 1 Axes>"
      ]
     },
     "metadata": {},
     "output_type": "display_data"
    }
   ],
   "source": [
    "plt.figure(figsize=(3, 3))\n",
    "plt.scatter(num_hinges, chamfers)\n",
    "plt.plot(num_hinges, chamfers)\n",
    "plt.xlabel(\"Number of Hinge Points\")\n",
    "plt.ylabel(\"Avg. Chamfer Dist.\")\n",
    "plt.suptitle(\"Number of Hinge Points and Chamfer Dist.\")\n",
    "plt.show()"
   ]
  }
 ],
 "metadata": {
  "kernelspec": {
   "display_name": "bhm4recon_cuda",
   "language": "python",
   "name": "python3"
  },
  "language_info": {
   "codemirror_mode": {
    "name": "ipython",
    "version": 3
   },
   "file_extension": ".py",
   "mimetype": "text/x-python",
   "name": "python",
   "nbconvert_exporter": "python",
   "pygments_lexer": "ipython3",
   "version": "3.11.6"
  }
 },
 "nbformat": 4,
 "nbformat_minor": 2
}
